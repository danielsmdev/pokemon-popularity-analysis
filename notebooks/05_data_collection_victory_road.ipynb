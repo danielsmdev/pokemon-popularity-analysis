{
 "cells": [
  {
   "cell_type": "markdown",
   "metadata": {},
   "source": [
    "### Añadimos SRC a la raíz del proyecto para poder importar el contenido"
   ]
  },
  {
   "cell_type": "code",
   "execution_count": null,
   "metadata": {},
   "outputs": [],
   "source": [
    "import sys\n",
    "import os\n",
    "\n",
    "# Obtener la ruta absoluta de la carpeta raíz (donde está src)\n",
    "ROOT_DIR = os.path.abspath(os.path.join(os.getcwd(), \"..\"))  # Subir un nivel desde notebooks/\n",
    "\n",
    "# Agregar la carpeta src al path\n",
    "sys.path.append(os.path.join(ROOT_DIR, \"src\"))"
   ]
  },
  {
   "cell_type": "markdown",
   "metadata": {},
   "source": [
    "### Importamos los módulos necesarios"
   ]
  },
  {
   "cell_type": "code",
   "execution_count": null,
   "metadata": {},
   "outputs": [],
   "source": [
    "import pandas as pd\n",
    "import time\n",
    "import requests\n",
    "from bs4 import BeautifulSoup\n",
    "import json\n",
    "\n",
    "from config import VICTORY_ROAD_SCRAPPING_DATA_PATH"
   ]
  },
  {
   "cell_type": "markdown",
   "metadata": {},
   "source": [
    "### Hacemos Scraping en la página web de Victory Road y sacamos información sobre los Worlds de los últimos 3 años"
   ]
  },
  {
   "cell_type": "code",
   "execution_count": null,
   "metadata": {},
   "outputs": [
    {
     "name": "stdout",
     "output_type": "stream",
     "text": [
      "🔎 Accediendo a Worlds2024_Usage: https://worldcupvgc.com/es/stats/pokemon\n",
      "🔎 Accediendo a Worlds2023_Usage: https://2023.worldcupvgc.com/es/stats/pokemon\n",
      "🔎 Accediendo a Worlds2022_Usage: https://2022.worldcupvgc.com/es/stats/pokemon\n",
      "✅ Datos de uso en torneos mundiales guardados en 'worlds_vgc_usage.csv'\n",
      "                             Pokemon Worlds2024_Usage Worlds2023_Usage  \\\n",
      "0                          abomasnow          NoUsage         0.186567   \n",
      "1                         aerodactyl          NoUsage          NoUsage   \n",
      "2                             aggron          NoUsage          NoUsage   \n",
      "3                           alcremie          NoUsage          NoUsage   \n",
      "4  alcremie-caramel-swirl-strawberry          NoUsage          NoUsage   \n",
      "\n",
      "  Worlds2022_Usage  \n",
      "0          NoUsage  \n",
      "1         0.096562  \n",
      "2          0.07725  \n",
      "3         0.038625  \n",
      "4         0.038625  \n"
     ]
    },
    {
     "name": "stderr",
     "output_type": "stream",
     "text": [
      "C:\\Users\\furio\\AppData\\Local\\Temp\\ipykernel_6024\\2872672488.py:63: FutureWarning: Setting an item of incompatible dtype is deprecated and will raise an error in a future version of pandas. Value 'NoUsage' has dtype incompatible with float64, please explicitly cast to a compatible dtype first.\n",
      "  df_worlds_vgc.fillna(\"NoUsage\", inplace=True)\n"
     ]
    }
   ],
   "source": [
    "# Diccionario con URLs de los torneos mundiales\n",
    "VGC_WORLDS_URLS = {\n",
    "    \"Worlds2024_Usage\": \"https://worldcupvgc.com/es/stats/pokemon\",\n",
    "    \"Worlds2023_Usage\": \"https://2023.worldcupvgc.com/es/stats/pokemon\",\n",
    "    \"Worlds2022_Usage\": \"https://2022.worldcupvgc.com/es/stats/pokemon\"\n",
    "}\n",
    "\n",
    "# Lista para almacenar los datos\n",
    "worlds_data = []\n",
    "\n",
    "# Función para extraer datos de cada torneo\n",
    "def scrape_worlds_vgc_data():\n",
    "    for year, url in VGC_WORLDS_URLS.items():\n",
    "        print(f\"🔎 Accediendo a {year}: {url}\")\n",
    "\n",
    "        try:\n",
    "            # Hacer la petición HTTP\n",
    "            response = requests.get(url, headers={\"User-Agent\": \"Mozilla/5.0\"})\n",
    "            response.raise_for_status()\n",
    "            soup = BeautifulSoup(response.text, \"html.parser\")\n",
    "\n",
    "            # Buscar la etiqueta con JSON embebido\n",
    "            script_tag = soup.find(\"script\", {\"id\": \"__NEXT_DATA__\"})\n",
    "            \n",
    "            if not script_tag:\n",
    "                print(f\"⚠️ No se encontró el JSON en {year}.\")\n",
    "                continue\n",
    "            \n",
    "            # Convertir el contenido del script en un diccionario JSON\n",
    "            data = json.loads(script_tag.string)\n",
    "            \n",
    "            # Extraer la lista de Pokémon desde la clave \"pokemonStats\"\n",
    "            pokemon_stats = data[\"props\"][\"pageProps\"][\"pokemonStats\"]\n",
    "\n",
    "            for p in pokemon_stats:\n",
    "                pokemon_name = p[\"name\"].strip().lower().replace(\" \", \"-\")\n",
    "                usage_percent = p[\"gamesPlayedPercentage\"]  # % de uso en torneos\n",
    "                \n",
    "                # Guardamos los datos en la lista\n",
    "                worlds_data.append({\"Pokemon\": pokemon_name, year: usage_percent})\n",
    "\n",
    "        except requests.exceptions.RequestException as e:\n",
    "            print(f\"❌ Error al acceder a {url}: {e}\")\n",
    "        \n",
    "        time.sleep(1)  # Pequeña pausa para evitar bloqueos\n",
    "\n",
    "# Ejecutar el scraping\n",
    "scrape_worlds_vgc_data()\n",
    "\n",
    "# Convertir los datos a DataFrame\n",
    "df_worlds_vgc = pd.DataFrame(worlds_data)\n",
    "\n",
    "# Agrupar por Pokémon (algunos pueden repetirse en diferentes ediciones)\n",
    "df_worlds_vgc = df_worlds_vgc.groupby(\"Pokemon\", as_index=False).first()\n",
    "\n",
    "# Rellenar valores nulos con \"NoUsage\"\n",
    "df_worlds_vgc.fillna(\"NoUsage\", inplace=True)\n",
    "\n",
    "# Guardar en CSV\n",
    "df_worlds_vgc.to_csv(VICTORY_ROAD_SCRAPPING_DATA_PATH, index=False)\n",
    "print(\"✅ Datos de uso en torneos mundiales guardados en '{VICTORY_ROAD_SCRAPPING_DATA_PATH}'\")\n",
    "\n",
    "# 🔎 Mostrar los primeros datos extraídos\n",
    "print(df_worlds_vgc.head())\n"
   ]
  }
 ],
 "metadata": {
  "kernelspec": {
   "display_name": "Python 3",
   "language": "python",
   "name": "python3"
  },
  "language_info": {
   "codemirror_mode": {
    "name": "ipython",
    "version": 3
   },
   "file_extension": ".py",
   "mimetype": "text/x-python",
   "name": "python",
   "nbconvert_exporter": "python",
   "pygments_lexer": "ipython3",
   "version": "3.12.9"
  }
 },
 "nbformat": 4,
 "nbformat_minor": 2
}
