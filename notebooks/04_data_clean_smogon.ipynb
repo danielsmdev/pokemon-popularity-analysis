{
 "cells": [
  {
   "cell_type": "markdown",
   "metadata": {},
   "source": [
    "### Añadimos SRC a la raíz del proyecto para poder importar el contenido"
   ]
  },
  {
   "cell_type": "code",
   "execution_count": null,
   "metadata": {},
   "outputs": [],
   "source": [
    "import sys\n",
    "import os\n",
    "\n",
    "# Obtener la ruta absoluta de la carpeta raíz (donde está src)\n",
    "ROOT_DIR = os.path.abspath(os.path.join(os.getcwd(), \"..\"))  # Subir un nivel desde notebooks/\n",
    "\n",
    "# Agregar la carpeta src al path\n",
    "sys.path.append(os.path.join(ROOT_DIR, \"src\"))"
   ]
  },
  {
   "cell_type": "markdown",
   "metadata": {},
   "source": [
    "### Importamos los módulos necesarios"
   ]
  },
  {
   "cell_type": "code",
   "execution_count": null,
   "metadata": {},
   "outputs": [],
   "source": [
    "import pandas as pd\n",
    "\n",
    "from config import SMOGON_SCRAPPING_DATA_PATH, POKEAPI_FINAL_DATASET_PATH, POKEAPI_MISSING_IN_VGC_SMOGON_PATH, VGC_SMOGON_MISSING_IN_POKEAPI_PATH, POKEAPI_DATASET_PATH_WITH_SMOGON"
   ]
  },
  {
   "cell_type": "markdown",
   "metadata": {},
   "source": [
    "### Merge con el dataset PokeAPI"
   ]
  },
  {
   "cell_type": "code",
   "execution_count": null,
   "metadata": {},
   "outputs": [],
   "source": [
    "# 📂 Cargar los datasets\n",
    "df_vgc = pd.read_csv(SMOGON_SCRAPPING_DATA_PATH)  # Dataset con datos de uso VGC\n",
    "df_main = pd.read_csv(POKEAPI_FINAL_DATASET_PATH)  # Dataset principal de PokeAPI\n",
    "\n",
    "# 🔎 Revisar valores nulos antes de limpiar\n",
    "print(\"🔎 Valores nulos en df_vgc antes de limpieza:\", df_vgc[\"Pokemon\"].isna().sum())\n",
    "print(\"🔎 Valores nulos en df_main antes de limpieza:\", df_main[\"name\"].isna().sum())\n",
    "\n",
    "# 📌 LIMPIEZA DE NOMBRES EN df_vgc\n",
    "df_vgc[\"Pokemon\"] = df_vgc[\"Pokemon\"].fillna(\"\")  # Asegurar que no haya valores nulos\n",
    "df_vgc[\"Pokemon\"] = df_vgc[\"Pokemon\"].astype(str).str.lower()\n",
    "df_vgc[\"Pokemon\"] = df_vgc[\"Pokemon\"].str.replace(r\"\\.\", \"\", regex=True)  # Eliminar \".\"\n",
    "df_vgc[\"Pokemon\"] = df_vgc[\"Pokemon\"].str.replace(r\"'\", \"\", regex=True)   # Eliminar \"'\"\n",
    "df_vgc[\"Pokemon\"] = df_vgc[\"Pokemon\"].str.replace(r\"\\s+\", \"-\", regex=True)  # Reemplazar espacios con \"-\"\n",
    "df_vgc[\"Pokemon\"] = df_vgc[\"Pokemon\"].str.strip()  # Eliminar espacios sobrantes\n",
    "\n",
    "# 📌 LIMPIEZA DE NOMBRES EN df_main\n",
    "df_main[\"name\"] = df_main[\"name\"].fillna(\"\")  # Asegurar que no haya valores nulos\n",
    "df_main[\"name\"] = df_main[\"name\"].astype(str).str.lower()\n",
    "df_main[\"name\"] = df_main[\"name\"].str.replace(r\"\\.\", \"\", regex=True)\n",
    "df_main[\"name\"] = df_main[\"name\"].str.replace(r\"'\", \"\", regex=True)\n",
    "df_main[\"name\"] = df_main[\"name\"].str.replace(r\"\\s+\", \"-\", regex=True)\n",
    "df_main[\"name\"] = df_main[\"name\"].str.strip()\n",
    "\n",
    "# 🔎 Verificar nombres después de limpieza\n",
    "print(\"\\n🔎 Ejemplo de nombres en df_vgc después de limpieza:\", df_vgc[\"Pokemon\"].head(10).tolist())\n",
    "print(\"🔎 Ejemplo de nombres en df_main después de limpieza:\", df_main[\"name\"].head(10).tolist())\n"
   ]
  },
  {
   "cell_type": "markdown",
   "metadata": {},
   "source": [
    "### Eliminación de Silvally ya que es un dato conflictivo"
   ]
  },
  {
   "cell_type": "code",
   "execution_count": null,
   "metadata": {},
   "outputs": [],
   "source": [
    "# 🔎 Mostrar cuántas filas contienen \"silvally\"\n",
    "silvally_count = df_vgc[\"Pokemon\"].str.contains(\"type:-null\", case=False, na=False).sum()\n",
    "print(f\"⚠️ Filas con 'silvally' antes de la limpieza: {silvally_count}\")\n",
    "\n",
    "# 🗑️ Eliminar filas donde \"Pokemon\" contenga \"silvally\"\n",
    "df_vgc_filtered = df_vgc[~df_vgc[\"Pokemon\"].str.contains(\"type:-null\", case=False, na=False)]\n",
    "\n",
    "# 🔎 Mostrar cuántas filas quedan después del filtrado\n",
    "print(f\"✅ Filas restantes después de eliminar 'type:-null': {len(df_vgc_filtered)}\")\n",
    "\n",
    "# 📁 Guardar el dataset limpio\n",
    "df_vgc_filtered.to_csv(SMOGON_SCRAPPING_DATA_PATH, index=False)\n",
    "\n",
    "print(f\"📁 Dataset limpio guardado en '{output_path}'\")"
   ]
  },
  {
   "cell_type": "markdown",
   "metadata": {},
   "source": [
    "### Comparación de coincidencia de nombres entre datasets de PokeAPI y Smogon"
   ]
  },
  {
   "cell_type": "code",
   "execution_count": null,
   "metadata": {},
   "outputs": [],
   "source": [
    "# 🔎 Revisar valores nulos antes de limpiar\n",
    "print(\"🔎 Valores nulos en df_vgc antes de limpieza:\", df_vgc[\"Pokemon\"].isna().sum())\n",
    "print(\"🔎 Valores nulos en df_main antes de limpieza:\", df_main[\"name\"].isna().sum())\n",
    "\n",
    "# 📌 LIMPIEZA DE NOMBRES EN df_vgc\n",
    "df_vgc[\"Pokemon\"] = df_vgc[\"Pokemon\"].fillna(\"\")  # Asegurar que no haya valores nulos\n",
    "df_vgc[\"Pokemon\"] = df_vgc[\"Pokemon\"].astype(str).str.lower()\n",
    "df_vgc[\"Pokemon\"] = df_vgc[\"Pokemon\"].str.replace(r\"\\.\", \"\", regex=True)  # Eliminar \".\"\n",
    "df_vgc[\"Pokemon\"] = df_vgc[\"Pokemon\"].str.replace(r\"'\", \"\", regex=True)   # Eliminar \"'\"\n",
    "df_vgc[\"Pokemon\"] = df_vgc[\"Pokemon\"].str.replace(r\"\\s+\", \"-\", regex=True)  # Reemplazar espacios con \"-\"\n",
    "df_vgc[\"Pokemon\"] = df_vgc[\"Pokemon\"].str.strip()  # Eliminar espacios sobrantes\n",
    "\n",
    "# 📌 LIMPIEZA DE NOMBRES EN df_main\n",
    "df_main[\"name\"] = df_main[\"name\"].fillna(\"\")  # Asegurar que no haya valores nulos\n",
    "df_main[\"name\"] = df_main[\"name\"].astype(str).str.lower()\n",
    "df_main[\"name\"] = df_main[\"name\"].str.replace(r\"\\.\", \"\", regex=True)\n",
    "df_main[\"name\"] = df_main[\"name\"].str.replace(r\"'\", \"\", regex=True)\n",
    "df_main[\"name\"] = df_main[\"name\"].str.replace(r\"\\s+\", \"-\", regex=True)\n",
    "df_main[\"name\"] = df_main[\"name\"].str.strip()\n",
    "\n",
    "# 🔎 Verificar nombres después de limpieza\n",
    "print(\"\\n🔎 Ejemplo de nombres en df_vgc después de limpieza:\", df_vgc[\"Pokemon\"].head(10).tolist())\n",
    "print(\"🔎 Ejemplo de nombres en df_main después de limpieza:\", df_main[\"name\"].head(10).tolist())\n",
    "\n",
    "# 📌 3. COMPARACIÓN ENTRE LOS DOS DATASETS\n",
    "vgc_names = set(df_vgc[\"Pokemon\"])  # Nombres en VGC\n",
    "main_names = set(df_main[\"name\"])  # Nombres en el dataset principal\n",
    "\n",
    "# ✅ Coincidencias\n",
    "matched_names = vgc_names & main_names  # Nombres que coinciden\n",
    "unmatched_vgc = vgc_names - main_names  # Nombres en VGC que no están en el dataset principal\n",
    "unmatched_main = main_names - vgc_names  # Nombres en el dataset principal que no están en VGC\n",
    "\n",
    "# 📊 Mostrar estadísticas\n",
    "print(f\"🔍 Total de nombres en VGC: {len(vgc_names)}\")\n",
    "print(f\"🔍 Total de nombres en el dataset principal: {len(main_names)}\")\n",
    "print(f\"✅ Coincidencias entre ambos datasets: {len(matched_names)}\")\n",
    "print(f\"⚠️ Pokémon en VGC que no están en el dataset principal: {len(unmatched_vgc)}\")\n",
    "print(f\"⚠️ Pokémon en el dataset principal que no están en VGC: {len(unmatched_main)}\")\n",
    "\n",
    "# 📁 Guardar listas de Pokémon huérfanos para revisión\n",
    "pd.DataFrame({\"Unmatched_VGC\": list(unmatched_vgc)}).to_csv(VGC_SMOGON_MISSING_IN_POKEAPI_PATH, index=False)\n",
    "pd.DataFrame({\"Unmatched_Main\": list(unmatched_main)}).to_csv(POKEAPI_MISSING_IN_VGC_SMOGON_PATH, index=False)\n",
    "\n",
    "print(\"📁 Listado de nombres huérfanos guardado en '{VGC_SMOGON_MISSING_IN_POKEAPI_PATH} y '{POKEAPI_MISSING_IN_VGC_SMOGON_PATH}'.\")"
   ]
  },
  {
   "cell_type": "markdown",
   "metadata": {},
   "source": [
    "### Una vez tenemos todos los nombres, hacemos el Merge"
   ]
  },
  {
   "cell_type": "code",
   "execution_count": null,
   "metadata": {},
   "outputs": [],
   "source": [
    "# 📂 Cargar los datasets\n",
    "df_main = pd.read_csv(POKEAPI_FINAL_DATASET_PATH)  # Dataset principal con todos los Pokémon\n",
    "df_vgc = pd.read_csv(SMOGON_SCRAPPING_DATA_PATH)  # Dataset de VGC ya limpio\n",
    "\n",
    "# 🔎 Mostrar las columnas de ambos datasets\n",
    "print(f\"📊 Columnas en df_main: {df_main.columns.tolist()}\")\n",
    "print(f\"📊 Columnas en df_vgc: {df_vgc.columns.tolist()}\")\n",
    "\n",
    "# 🔗 Merge de los datasets (Unión por el nombre del Pokémon)\n",
    "df_merged = df_main.merge(df_vgc, left_on=\"name\", right_on=\"Pokemon\", how=\"left\")\n",
    "\n",
    "# 🗑️ Eliminar la columna duplicada \"Pokemon\" después del merge\n",
    "df_merged.drop(columns=[\"Pokemon\"], inplace=True)\n",
    "\n",
    "# 🛠️ Rellenar valores NaN en las columnas de uso de VGC con \"NoUsage\"\n",
    "vgc_cols = [\"VGCusage2022\", \"VGCusage2023\", \"VGCusage2024\"]  # Columnas de uso de VGC\n",
    "df_merged[vgc_cols] = df_merged[vgc_cols].fillna(\"NoUsage\")\n",
    "\n",
    "# 📊 Revisar cuántos Pokémon no tenían datos de VGC\n",
    "no_usage_count = (df_merged[vgc_cols] == \"NoUsage\").sum().sum()\n",
    "print(f\"⚠️ Pokémon sin datos de VGC rellenados con 'NoUsage': {no_usage_count}\")\n",
    "\n",
    "# 📁 Guardar el dataset final con los datos de VGC integrados\n",
    "df_merged.to_csv(POKEAPI_DATASET_PATH_WITH_SMOGON, index=False)\n",
    "\n",
    "print(f\"✅ Dataset final guardado en '{POKEAPI_DATASET_PATH_WITH_SMOGON}'\")"
   ]
  },
  {
   "cell_type": "code",
   "execution_count": null,
   "metadata": {},
   "outputs": [],
   "source": [
    "df_merged.info()"
   ]
  },
  {
   "cell_type": "markdown",
   "metadata": {},
   "source": [
    "### Rellenamos los valores nulos con valores \"No_type\" y \"No_ability\""
   ]
  },
  {
   "cell_type": "code",
   "execution_count": null,
   "metadata": {},
   "outputs": [],
   "source": [
    "# 📂 Cargar el dataset con VGC integrado\n",
    "df_merged = pd.read_csv(POKEAPI_DATASET_PATH_WITH_SMOGON)\n",
    "\n",
    "# 🛠️ Rellenar valores nulos en Type2 y ability2 con \"None\"\n",
    "df_merged[\"type2\"] = df_merged[\"type2\"].fillna(\"No_type\")\n",
    "df_merged[\"ability2\"] = df_merged[\"ability2\"].fillna(\"No_ability\")\n",
    "\n",
    "# 📊 Verificar que no haya valores nulos restantes\n",
    "missing_values = df_merged[[\"type2\", \"ability2\"]].isnull().sum()\n",
    "print(f\"🔎 Valores nulos restantes después del relleno:\\n{missing_values}\")\n",
    "\n",
    "# 📁 Guardar el dataset final\n",
    "df_merged.to_csv(POKEAPI_DATASET_PATH_WITH_SMOGON, index=False)\n",
    "\n",
    "print(f\"✅ Dataset final guardado en '{POKEAPI_DATASET_PATH_WITH_SMOGON}'\")"
   ]
  },
  {
   "cell_type": "code",
   "execution_count": null,
   "metadata": {},
   "outputs": [],
   "source": [
    "df_merged.info()"
   ]
  }
 ],
 "metadata": {
  "kernelspec": {
   "display_name": "Python 3",
   "language": "python",
   "name": "python3"
  },
  "language_info": {
   "name": "python",
   "version": "3.12.9"
  }
 },
 "nbformat": 4,
 "nbformat_minor": 2
}
