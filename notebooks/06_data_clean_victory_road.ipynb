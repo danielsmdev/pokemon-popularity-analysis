{
 "cells": [
  {
   "cell_type": "markdown",
   "metadata": {},
   "source": [
    "### Añadimos SRC a la raíz del proyecto para poder importar el contenido"
   ]
  },
  {
   "cell_type": "code",
   "execution_count": null,
   "metadata": {},
   "outputs": [],
   "source": [
    "import sys\n",
    "import os\n",
    "\n",
    "# Obtener la ruta absoluta de la carpeta raíz (donde está src)\n",
    "ROOT_DIR = os.path.abspath(os.path.join(os.getcwd(), \"..\"))  # Subir un nivel desde notebooks/\n",
    "\n",
    "# Agregar la carpeta src al path\n",
    "sys.path.append(os.path.join(ROOT_DIR, \"src\"))"
   ]
  },
  {
   "cell_type": "markdown",
   "metadata": {},
   "source": [
    "### Importamos los módulos necesarios"
   ]
  },
  {
   "cell_type": "code",
   "execution_count": null,
   "metadata": {},
   "outputs": [],
   "source": [
    "import pandas as pd\n",
    "\n",
    "from config import VICTORY_ROAD_SCRAPPING_DATA_PATH, POKEMON_DATASET_FULL_MERGED, SMOGON_MISSING_IN_VICTORY_ROAD, VICTORY_ROAD_MISSING_IN_SMOGON"
   ]
  },
  {
   "cell_type": "markdown",
   "metadata": {},
   "source": [
    "### Borramos los registros de Vivillon y Alcremie, ya que son conflictivos para la integración en el dataset y no son demasiado relevantes los datos que hay de ellos"
   ]
  },
  {
   "cell_type": "code",
   "execution_count": null,
   "metadata": {},
   "outputs": [],
   "source": [
    "# 📂 Cargar el dataset de Worlds VGC\n",
    "df_worlds = pd.read_csv(VICTORY_ROAD_SCRAPPING_DATA_PATH)\n",
    "\n",
    "# 📌 1. Convertir nombres a minúsculas para evitar problemas de mayúsculas/minúsculas\n",
    "df_worlds[\"Pokemon\"] = df_worlds[\"Pokemon\"].str.lower()\n",
    "\n",
    "# 📌 2. Filtrar para eliminar Pokémon que contengan \"vivillon\" o \"alcremie\"\n",
    "df_worlds_filtered = df_worlds[~df_worlds[\"Pokemon\"].str.contains(\"vivillon|alcremie\", regex=True)]\n",
    "\n",
    "# 📊 Mostrar cuántas filas se eliminaron\n",
    "removed_count = len(df_worlds) - len(df_worlds_filtered)\n",
    "print(f\"✅ Eliminados {removed_count} registros de 'vivillon' y 'alcremie'.\")\n",
    "\n",
    "# 📂 Guardar el dataset actualizado\n",
    "df_worlds_filtered.to_csv(VICTORY_ROAD_SCRAPPING_DATA_PATH_CLEANED, index=False)\n",
    "print(\"📁 Dataset actualizado guardado en '{VICTORY_ROAD_SCRAPPING_DATA_PATH_CLEANED}.\")"
   ]
  },
  {
   "cell_type": "markdown",
   "metadata": {},
   "source": [
    "### Comparamos los resultados que hemos obtenido en el scraping con nuestro dataset de todos los pokemon y vemos si hay diferencias en los nombres de los pokemon para poder hacer correctamente el merge "
   ]
  },
  {
   "cell_type": "code",
   "execution_count": null,
   "metadata": {},
   "outputs": [],
   "source": [
    "# 📂 Cargar los datasets\n",
    "df_main = pd.read_csv(POKEAPI_DATASET_PATH_WITH_SMOGON)  # Dataset principal (ya tiene Smogon)\n",
    "df_worlds = pd.read_csv(VICTORY_ROAD_SCRAPPING_DATA_PATH_CLEANED)  # Dataset con datos de Worlds VGC\n",
    "\n",
    "# 🔍 Verificar nombres de columnas\n",
    "print(\"🔎 Columnas en df_main:\", df_main.columns.tolist())\n",
    "print(\"🔎 Columnas en df_worlds:\", df_worlds.columns.tolist())\n",
    "\n",
    "# 📌 1. LIMPIEZA Y NORMALIZACIÓN DE NOMBRES\n",
    "def clean_name(name):\n",
    "    \"\"\"Función para limpiar nombres de Pokémon (minúsculas, sin espacios, sin caracteres conflictivos)\"\"\"\n",
    "    return (\n",
    "        name.lower()\n",
    "        .replace(\".\", \"\")  # Eliminar puntos\n",
    "        .replace(\"'\", \"\")  # Eliminar apóstrofes\n",
    "        .replace(\" \", \"-\")  # Reemplazar espacios por guiones\n",
    "        .strip()\n",
    "    )\n",
    "\n",
    "# Aplicar limpieza a los nombres en ambos datasets\n",
    "df_main[\"name\"] = df_main[\"name\"].astype(str).apply(clean_name)\n",
    "df_worlds[\"Pokemon\"] = df_worlds[\"Pokemon\"].astype(str).apply(clean_name)\n",
    "\n",
    "# 📌 2. COMPARACIÓN ENTRE LOS DOS DATASETS\n",
    "smogon_names = set(df_main[\"name\"])  # Nombres en el dataset principal (con Smogon)\n",
    "worlds_names = set(df_worlds[\"Pokemon\"])  # Nombres en el dataset de Worlds VGC\n",
    "\n",
    "# ✅ Coincidencias\n",
    "matched_names = smogon_names & worlds_names  # Nombres que coinciden\n",
    "unmatched_smogon = smogon_names - worlds_names  # Nombres en Smogon que NO están en Worlds\n",
    "unmatched_worlds = worlds_names - smogon_names  # Nombres en Worlds que NO están en Smogon\n",
    "\n",
    "# 📊 Mostrar estadísticas\n",
    "print(f\"🔍 Total de nombres en Smogon: {len(smogon_names)}\")\n",
    "print(f\"🔍 Total de nombres en Worlds VGC: {len(worlds_names)}\")\n",
    "print(f\"✅ Coincidencias entre ambos datasets: {len(matched_names)}\")\n",
    "print(f\"⚠️ Pokémon en Smogon que no están en Worlds: {len(unmatched_smogon)}\")\n",
    "print(f\"⚠️ Pokémon en Worlds que no están en Smogon: {len(unmatched_worlds)}\")\n",
    "\n",
    "# 📁 Guardar listas de Pokémon huérfanos para revisión manual\n",
    "pd.DataFrame({\"Unmatched_Smogon\": list(unmatched_smogon)}).to_csv(SMOGON_MISSING_IN_VICTORY_ROAD, index=False)\n",
    "pd.DataFrame({\"Unmatched_Worlds\": list(unmatched_worlds)}).to_csv(VICTORY_ROAD_MISSING_IN_SMOGON, index=False)\n",
    "\n",
    "print(\"📁 Listado de nombres huérfanos guardado en '{SMOGON_MISSING_IN_VICTORY_ROAD}' y '{VICTORY_ROAD_MISSING_IN_SMOGON}'.\")"
   ]
  },
  {
   "cell_type": "markdown",
   "metadata": {},
   "source": [
    "### Una vez que tenemos todos los pokemon coincidentes por el nombre, realizamos el Merge con el dataset principal"
   ]
  },
  {
   "cell_type": "code",
   "execution_count": null,
   "metadata": {},
   "outputs": [],
   "source": [
    "# 📂 Cargar datasets\n",
    "df_official = pd.read_csv(POKEAPI_DATASET_PATH_WITH_SMOGON)  # Dataset principal\n",
    "df_worlds = pd.read_csv(VICTORY_ROAD_SCRAPPING_DATA_PATH_CLEANED)  # Datos de Worlds VGC\n",
    "\n",
    "# 📌 Fusionar datasets por el nombre del Pokémon\n",
    "df_merged = df_official.merge(df_worlds, left_on=\"name\", right_on=\"Pokemon\", how=\"left\")\n",
    "\n",
    "# 📌 Eliminar la columna redundante \"Pokemon\" (ya está en \"name\")\n",
    "df_merged.drop(columns=[\"Pokemon\"], inplace=True)\n",
    "\n",
    "# 📌 Rellenar valores nulos en columnas de Worlds VGC con \"NoUsage\"\n",
    "worlds_columns = [\"Worlds2022Usage\", \"Worlds2023Usage\", \"Worlds2024Usage\"]\n",
    "df_merged[worlds_columns] = df_merged[worlds_columns].fillna(\"NoUsage\")\n",
    "\n",
    "# 📂 Guardar el dataset final fusionado\n",
    "\n",
    "df_merged.to_csv(POKEMON_DATASET_FULL_MERGED, index=False)\n",
    "\n",
    "# 📊 Mostrar resultado\n",
    "print(f\"✅ Dataset fusionado correctamente y guardado en: {POKEMON_DATASET_FULL_MERGED}\")\n",
    "df_merged.head()"
   ]
  },
  {
   "cell_type": "markdown",
   "metadata": {},
   "source": [
    "### Renombramos las columnas para que sea mas clara la diferenciacion de los datos de Smogon con los datos de los Worlds de VGC"
   ]
  },
  {
   "cell_type": "code",
   "execution_count": null,
   "metadata": {},
   "outputs": [],
   "source": [
    "# 📂 Cargar el dataset combinado\n",
    "df = pd.read_csv(POKEMON_DATASET_FULL_MERGED)\n",
    "\n",
    "# 📌 Diccionario de nuevos nombres\n",
    "column_rename_map = {\n",
    "    \"VGCusage2022\": \"Smogon_VGC_Usage_2022\",\n",
    "    \"VGCusage2023\": \"Smogon_VGC_Usage_2023\",\n",
    "    \"VGCusage2024\": \"Smogon_VGC_Usage_2024\",\n",
    "    \"Worlds2022Usage\": \"Worlds_VGC_Usage_2022\",\n",
    "    \"Worlds2023Usage\": \"Worlds_VGC_Usage_2023\",\n",
    "    \"Worlds2024Usage\": \"Worlds_VGC_Usage_2024\"\n",
    "}\n",
    "\n",
    "# 📌 Renombrar columnas\n",
    "df.rename(columns=column_rename_map, inplace=True)\n",
    "\n",
    "# 📊 Verificar cambios\n",
    "print(\"✅ Columnas renombradas correctamente:\")\n",
    "print(df.head())\n",
    "\n",
    "# 📂 Guardar el dataset actualizado\n",
    "df.to_csv(POKEMON_DATASET_FULL_MERGED, index=False)\n",
    "print(\"📁 Dataset actualizado guardado en 'pokemon_dataset_full_merged.csv'.\")"
   ]
  },
  {
   "cell_type": "markdown",
   "metadata": {},
   "source": [
    "### Rellenamos los valores nulos de type2 y ability1 con los valores \"No_type\" y \"No_ability\"  "
   ]
  },
  {
   "cell_type": "code",
   "execution_count": null,
   "metadata": {},
   "outputs": [],
   "source": [
    "# 📂 Cargar el dataset con VGC integrado\n",
    "df_merged = pd.read_csv(POKEMON_DATASET_FULL_MERGED)\n",
    "\n",
    "# 🛠️ Rellenar valores nulos en Type2 y ability2 con \"None\"\n",
    "df_merged[\"type2\"] = df_merged[\"type2\"].fillna(\"No_type\")\n",
    "df_merged[\"ability2\"] = df_merged[\"ability2\"].fillna(\"No_ability\")\n",
    "\n",
    "# 📊 Verificar que no haya valores nulos restantes\n",
    "missing_values = df_merged[[\"type2\", \"ability2\"]].isnull().sum()\n",
    "print(f\"🔎 Valores nulos restantes después del relleno:\\n{missing_values}\")\n",
    "\n",
    "# 📁 Guardar el dataset final\n",
    "df_merged.to_csv(POKEMON_DATASET_FULL_MERGED, index=False)\n",
    "\n",
    "print(f\"✅ Dataset final guardado en '{output_path}'\")"
   ]
  },
  {
   "cell_type": "code",
   "execution_count": null,
   "metadata": {},
   "outputs": [],
   "source": [
    "df_merged.info()"
   ]
  }
 ],
 "metadata": {
  "kernelspec": {
   "display_name": "Python 3",
   "language": "python",
   "name": "python3"
  },
  "language_info": {
   "name": "python",
   "version": "3.12.9"
  }
 },
 "nbformat": 4,
 "nbformat_minor": 2
}
